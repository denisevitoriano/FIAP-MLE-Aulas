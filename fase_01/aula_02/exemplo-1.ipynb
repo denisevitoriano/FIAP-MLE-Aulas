{
 "cells": [
  {
   "cell_type": "markdown",
   "metadata": {},
   "source": [
    "# Introdução ao Python \n",
    "\n",
    "## O que é Python?\n",
    "\n",
    "Python é uma linguagem de programação de alto nível conhecida por sua simplicidade e legibilidade. Neste notebook, vamos explorar conceitos básicos de Python para iniciantes."
   ]
  },
  {
   "cell_type": "markdown",
   "metadata": {},
   "source": [
    "Exemplo classico:"
   ]
  },
  {
   "cell_type": "code",
   "execution_count": 2,
   "metadata": {},
   "outputs": [
    {
     "name": "stdout",
     "output_type": "stream",
     "text": [
      "Hello, World!\n"
     ]
    }
   ],
   "source": [
    "print(\"Hello, World!\")"
   ]
  },
  {
   "cell_type": "markdown",
   "metadata": {},
   "source": [
    "## Declarando Variáveis\n",
    "\n",
    "Em Python, você pode declarar uma variável e atribuir um valor a ela. Vamos ver alguns exemplos:"
   ]
  },
  {
   "cell_type": "code",
   "execution_count": 3,
   "metadata": {},
   "outputs": [
    {
     "name": "stdout",
     "output_type": "stream",
     "text": [
      "35\n",
      "Denise Vitoriano\n",
      "3500.5\n"
     ]
    }
   ],
   "source": [
    "# Declarando variáveis\n",
    "numero = 35\n",
    "nome = 'Denise Vitoriano'\n",
    "salario = 3500.50\n",
    "\n",
    "# Imprimindo as variáveis\n",
    "print(numero)\n",
    "print(nome)\n",
    "print(salario)"
   ]
  },
  {
   "cell_type": "markdown",
   "metadata": {},
   "source": [
    "## Manipulando Variáveis\n",
    "\n",
    "Você pode realizar operações matemáticas e concatenar strings com variáveis em Python."
   ]
  },
  {
   "cell_type": "code",
   "execution_count": 7,
   "metadata": {},
   "outputs": [
    {
     "name": "stdout",
     "output_type": "stream",
     "text": [
      "Soma: 45\n",
      "Concatenação: Olá, Denise Vitoriano!\n"
     ]
    }
   ],
   "source": [
    "# Operações com variáveis\n",
    "a = 10\n",
    "b = 35\n",
    "soma = a + b\n",
    "concatenacao = 'Olá,' + ' ' + nome + '!'\n",
    "\n",
    "# Imprimindo os resultados\n",
    "print('Soma:', soma)\n",
    "print('Concatenação:', concatenacao)"
   ]
  },
  {
   "cell_type": "code",
   "execution_count": 8,
   "metadata": {},
   "outputs": [],
   "source": [
    "# Definindo uma string\n",
    "frase = 'Python é uma linguagem de programação poderosa'"
   ]
  },
  {
   "cell_type": "code",
   "execution_count": 9,
   "metadata": {},
   "outputs": [
    {
     "name": "stdout",
     "output_type": "stream",
     "text": [
      "Python é uma linguagem de programação poderosa\n"
     ]
    }
   ],
   "source": [
    "# Imprimindo a string\n",
    "print(frase)"
   ]
  },
  {
   "cell_type": "markdown",
   "metadata": {},
   "source": [
    "## Operações Básicas\n",
    "\n",
    "Vamos realizar algumas operações básicas com a string."
   ]
  },
  {
   "cell_type": "code",
   "execution_count": 11,
   "metadata": {},
   "outputs": [
    {
     "name": "stdout",
     "output_type": "stream",
     "text": [
      "Tamanho da string: 16\n"
     ]
    }
   ],
   "source": [
    "# Tamanho da string\n",
    "tamanho = len(nome)\n",
    "print('Tamanho da string:', tamanho)"
   ]
  },
  {
   "cell_type": "code",
   "execution_count": 13,
   "metadata": {},
   "outputs": [
    {
     "name": "stdout",
     "output_type": "stream",
     "text": [
      "Maiúsculas: DENISE VITORIANO\n",
      "Minúsculas: denise vitoriano\n"
     ]
    }
   ],
   "source": [
    "# Transformando em maiúsculas\n",
    "maiusculas = nome.upper()\n",
    "minusculas = nome.lower()\n",
    "print('Maiúsculas:', maiusculas)\n",
    "print('Minúsculas:', minusculas)"
   ]
  },
  {
   "cell_type": "code",
   "execution_count": 16,
   "metadata": {},
   "outputs": [
    {
     "name": "stdout",
     "output_type": "stream",
     "text": [
      "Nova frase: Denise Vitoriano\n"
     ]
    }
   ],
   "source": [
    "# Substituindo palavras na string\n",
    "nova_frase = nome.replace('Vitoriano', 'Silva#')\n",
    "print('Nova frase:', nome)"
   ]
  }
 ],
 "metadata": {
  "kernelspec": {
   "display_name": "env_default",
   "language": "python",
   "name": "python3"
  },
  "language_info": {
   "codemirror_mode": {
    "name": "ipython",
    "version": 3
   },
   "file_extension": ".py",
   "mimetype": "text/x-python",
   "name": "python",
   "nbconvert_exporter": "python",
   "pygments_lexer": "ipython3",
   "version": "3.10.16"
  }
 },
 "nbformat": 4,
 "nbformat_minor": 4
}
